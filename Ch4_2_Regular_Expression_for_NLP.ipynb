{
  "nbformat": 4,
  "nbformat_minor": 0,
  "metadata": {
    "colab": {
      "name": "Ch4_2 Regular Expression for NLP.ipynb",
      "provenance": [],
      "collapsed_sections": [],
      "authorship_tag": "ABX9TyOG2Q/TonIA47FWzBZLjmJw",
      "include_colab_link": true
    },
    "kernelspec": {
      "name": "python3",
      "display_name": "Python 3"
    }
  },
  "cells": [
    {
      "cell_type": "markdown",
      "metadata": {
        "id": "view-in-github",
        "colab_type": "text"
      },
      "source": [
        "<a href=\"https://colab.research.google.com/github/woneuy01/Hands-on-NLP-with-NLTK-and-Scikit-learn/blob/master/Ch4_2_Regular_Expression_for_NLP.ipynb\" target=\"_parent\"><img src=\"https://colab.research.google.com/assets/colab-badge.svg\" alt=\"Open In Colab\"/></a>"
      ]
    },
    {
      "cell_type": "code",
      "metadata": {
        "id": "n-Y5cVJmuqzJ",
        "colab_type": "code",
        "outputId": "607d3f85-35c4-4e9d-95c7-d80d0acb4742",
        "colab": {
          "base_uri": "https://localhost:8080/",
          "height": 67
        }
      },
      "source": [
        "import re # re regular expression\n",
        "from nltk.corpus import words\n",
        "import nltk\n",
        "nltk.download('words')"
      ],
      "execution_count": 0,
      "outputs": [
        {
          "output_type": "stream",
          "text": [
            "[nltk_data] Downloading package words to /root/nltk_data...\n",
            "[nltk_data]   Unzipping corpora/words.zip.\n"
          ],
          "name": "stdout"
        },
        {
          "output_type": "execute_result",
          "data": {
            "text/plain": [
              "True"
            ]
          },
          "metadata": {
            "tags": []
          },
          "execution_count": 6
        }
      ]
    },
    {
      "cell_type": "code",
      "metadata": {
        "id": "nz29yEdwu7jG",
        "colab_type": "code",
        "colab": {}
      },
      "source": [
        "english_words = words.raw().split('\\n')"
      ],
      "execution_count": 0,
      "outputs": []
    },
    {
      "cell_type": "code",
      "metadata": {
        "id": "U7BwZ2YjvC5l",
        "colab_type": "code",
        "outputId": "67d1e8cd-cdaa-4341-90f6-a7b71db1407f",
        "colab": {
          "base_uri": "https://localhost:8080/",
          "height": 34
        }
      },
      "source": [
        "len(english_words)"
      ],
      "execution_count": 0,
      "outputs": [
        {
          "output_type": "execute_result",
          "data": {
            "text/plain": [
              "236737"
            ]
          },
          "metadata": {
            "tags": []
          },
          "execution_count": 8
        }
      ]
    },
    {
      "cell_type": "code",
      "metadata": {
        "id": "QrGiMe8mvF5X",
        "colab_type": "code",
        "outputId": "e4e983eb-d004-4d50-c77b-ce57d0ee691d",
        "colab": {
          "base_uri": "https://localhost:8080/",
          "height": 353
        }
      },
      "source": [
        "# wildcards . means anything\n",
        "\n",
        "pattern = re.compile('t..t') #t..t 가 들어 있는 모든 것\n",
        "[w for w in english_words if pattern.match(w)][:20]"
      ],
      "execution_count": 0,
      "outputs": [
        {
          "output_type": "execute_result",
          "data": {
            "text/plain": [
              "['tact',\n",
              " 'tactable',\n",
              " 'tactful',\n",
              " 'tactfully',\n",
              " 'tactfulness',\n",
              " 'tactic',\n",
              " 'tactical',\n",
              " 'tactically',\n",
              " 'tactician',\n",
              " 'tactics',\n",
              " 'tactile',\n",
              " 'tactilist',\n",
              " 'tactility',\n",
              " 'tactilogical',\n",
              " 'tactinvariant',\n",
              " 'taction',\n",
              " 'tactite',\n",
              " 'tactive',\n",
              " 'tactless',\n",
              " 'tactlessly']"
            ]
          },
          "metadata": {
            "tags": []
          },
          "execution_count": 10
        }
      ]
    },
    {
      "cell_type": "code",
      "metadata": {
        "id": "gnJw0w1owKZb",
        "colab_type": "code",
        "outputId": "33940d72-cd7f-407a-e600-7442a0df8c6e",
        "colab": {
          "base_uri": "https://localhost:8080/",
          "height": 353
        }
      },
      "source": [
        "# Endings\n",
        "pattern = re.compile('t..t$') # finish as t\n",
        "[w for w in english_words if pattern.match(w)][:20]"
      ],
      "execution_count": 0,
      "outputs": [
        {
          "output_type": "execute_result",
          "data": {
            "text/plain": [
              "['tact',\n",
              " 'taft',\n",
              " 'tait',\n",
              " 'takt',\n",
              " 'tart',\n",
              " 'taut',\n",
              " 'teat',\n",
              " 'teet',\n",
              " 'telt',\n",
              " 'tent',\n",
              " 'test',\n",
              " 'text',\n",
              " 'that',\n",
              " 'tift',\n",
              " 'tilt',\n",
              " 'tint',\n",
              " 'toat',\n",
              " 'toft',\n",
              " 'togt',\n",
              " 'toit']"
            ]
          },
          "metadata": {
            "tags": []
          },
          "execution_count": 11
        }
      ]
    },
    {
      "cell_type": "code",
      "metadata": {
        "id": "_iwISYrewfc8",
        "colab_type": "code",
        "outputId": "9079fd2a-9137-448b-f15f-ad0dda081caf",
        "colab": {
          "base_uri": "https://localhost:8080/",
          "height": 34
        }
      },
      "source": [
        "# optionality\n",
        "pattern = re.compile('humou?r$') # ? means optional\n",
        "[w for w in english_words if pattern.match(w)][:20]"
      ],
      "execution_count": 0,
      "outputs": [
        {
          "output_type": "execute_result",
          "data": {
            "text/plain": [
              "['humor', 'humour']"
            ]
          },
          "metadata": {
            "tags": []
          },
          "execution_count": 12
        }
      ]
    },
    {
      "cell_type": "markdown",
      "metadata": {
        "id": "CvBFj_D9w3Rc",
        "colab_type": "text"
      },
      "source": [
        "One or more"
      ]
    },
    {
      "cell_type": "code",
      "metadata": {
        "id": "mBcCQKlyw1cW",
        "colab_type": "code",
        "outputId": "b1aa0983-0e73-46a4-9398-320ffd41cdae",
        "colab": {
          "base_uri": "https://localhost:8080/",
          "height": 34
        }
      },
      "source": [
        "pattern = re.compile('co+l$')  # 'o' one more\n",
        "[w for w in english_words if pattern.match(w)][:20]"
      ],
      "execution_count": 0,
      "outputs": [
        {
          "output_type": "execute_result",
          "data": {
            "text/plain": [
              "['col', 'cool']"
            ]
          },
          "metadata": {
            "tags": []
          },
          "execution_count": 15
        }
      ]
    },
    {
      "cell_type": "markdown",
      "metadata": {
        "id": "zgdlTPzMxVsw",
        "colab_type": "text"
      },
      "source": [
        "Grouped choices"
      ]
    },
    {
      "cell_type": "code",
      "metadata": {
        "id": "Bm7UGC0lxYPr",
        "colab_type": "code",
        "outputId": "5bb41b00-06a1-4d4f-c1f8-51e5c8f8c73b",
        "colab": {
          "base_uri": "https://localhost:8080/",
          "height": 34
        }
      },
      "source": [
        "pattern = re.compile('analy[sz]e')\n",
        "[w for w in english_words if pattern.match(w)][:20]"
      ],
      "execution_count": 0,
      "outputs": [
        {
          "output_type": "execute_result",
          "data": {
            "text/plain": [
              "['analyse', 'analyser', 'analyses', 'analyze', 'analyzer']"
            ]
          },
          "metadata": {
            "tags": []
          },
          "execution_count": 16
        }
      ]
    },
    {
      "cell_type": "code",
      "metadata": {
        "id": "zKnKPMTLxuQi",
        "colab_type": "code",
        "outputId": "2a7e1a42-0b25-4647-d2cf-e1dd9686aef3",
        "colab": {
          "base_uri": "https://localhost:8080/",
          "height": 235
        }
      },
      "source": [
        "pattern = re.compile('p[aeiou]+t$')\n",
        "[w for w in english_words if pattern.match(w)]"
      ],
      "execution_count": 0,
      "outputs": [
        {
          "output_type": "execute_result",
          "data": {
            "text/plain": [
              "['pat',\n",
              " 'paut',\n",
              " 'peat',\n",
              " 'pet',\n",
              " 'piet',\n",
              " 'pit',\n",
              " 'poet',\n",
              " 'poot',\n",
              " 'pot',\n",
              " 'pout',\n",
              " 'put',\n",
              " 'pot',\n",
              " 'put']"
            ]
          },
          "metadata": {
            "tags": []
          },
          "execution_count": 18
        }
      ]
    }
  ]
}