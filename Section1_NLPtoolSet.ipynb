{
  "nbformat": 4,
  "nbformat_minor": 0,
  "metadata": {
    "colab": {
      "name": "NLPtoolSet.ipynb",
      "provenance": [],
      "collapsed_sections": []
    },
    "kernelspec": {
      "name": "python3",
      "display_name": "Python 3"
    },
    "accelerator": "GPU"
  },
  "cells": [
    {
      "cell_type": "code",
      "metadata": {
        "id": "KOhj9rJMAPIL",
        "colab_type": "code",
        "outputId": "cca21be0-fd8a-42cb-aa52-b0ddb7ff51ec",
        "colab": {
          "base_uri": "https://localhost:8080/",
          "height": 104
        }
      },
      "source": [
        "# 1.1 Use Python, NLTK and scikit-learn to build your NLP toolset.\n",
        "#!pip install nltk\n",
        "#!pip install scikit-learn\n",
        "\n",
        "\n",
        "import collections  # 1.5\n",
        "import multiprocessing as mp  # 1.2\n",
        "import re  # 1.3\n",
        "\n",
        "def process(line):\n",
        "    print(line)\n",
        "## try 1: readlines()\n",
        "# with open(\"C:/Users/woneu/Desktop/natural-language-data.txt\") as f:\n",
        "#     data = f.readline() # everthing in memory!\n",
        "#     for line in data:\n",
        "#         process(line)\n",
        "# ## try 2: use context managers to make sure file pointers are closed correctly.\n",
        "# with open(\"natural-language-data.txt\") as f:\n",
        "#     # to hangle large text files, we use the file as an iterator\n",
        "#     for line in f:\n",
        "#         #each line is garbage collected after iteration\n",
        "#         #unless it is referenced elsewhere.\n",
        "#         process(line)\n",
        "\n",
        "# ## try try 3: multiprocessing\n",
        "# pool = mp.Pool(2)  # no. of pools = no. of CPU cores\n",
        "# jobs = []\n",
        "\n",
        "# with open(\"natural-language-data.txt\") as f:\n",
        "#     for line in f:\n",
        "#         jobs.append(\n",
        "#             pool.apply_async(process, (line)))\n",
        "\n",
        "# for job in jobs:\n",
        "#   job.get()  # wait for all jobs to finish\n",
        "# pool.close()\n",
        "\n",
        "# # 1.3 Split the text into individual words with regualr expression\n",
        "corpus = (\"Andy is a data scientist. Andy's boss, Megan, was looking for him, \"\n",
        "          \"but Andy was out to lunch. Megan texted Andy, 'How's the deadline\"\n",
        "          \" coming along?'\")\n",
        "\n",
        "# simply splitting the sentence with space\n",
        "#print(corpus.split())\n",
        "\n",
        "#Taking out punctiation\n",
        "# punctuation = \".',?\"\n",
        "# for p in punctuation:\n",
        "#   corpus = corpus.replace(p,'')\n",
        "\n",
        "# print(corpus.split())  \n",
        "\n",
        "#Regrex\n",
        "# word_regrex=r'\\W+' # a raw str: one or more (+) non-word characters(\\W)\n",
        "# split_corpus = re.split(word_regrex, corpus)\n",
        "# print(corpus.split())\n",
        "\n",
        "# a better regrex\n",
        "# word charactor + zero or more word characters or 's + word character\n",
        "#[\\W']* zero or more word charactor with '\n",
        "# \\w   or just a word character\n",
        "word_regrex_improved = r\"(\\w[\\W']*\\w|\\w)\"\n",
        "word_matcher =re.compile(word_regrex_improved)\n",
        "print(word_matcher.findall(corpus))\n",
        "\n",
        "# 1.4 Converting words into lists of lower case tokens\n",
        "\n",
        "def split_into_words(line):\n",
        "  word_regrex_improved = r\"(\\w[\\w']*\\w|w)\"\n",
        "  word_matcher = re.compile(word_regrex_improved)\n",
        "  return word_matcher.findall(line)\n",
        "\n",
        "processed_corpus =[]\n",
        "\n",
        "with open(\"natural-language-data.txt\") as f:\n",
        "  # to handle large text files, we use the file as an iterator\n",
        "  for line in f:\n",
        "    process_corpus.extend(split_into_words(line))\n",
        "# extend(): Iterates over its argument and adding each element to the list and extending the list\n",
        "processed_corpos = [w.lower() for w in processed_corpus]\n",
        "print(processed_corpus)\n",
        "\n",
        "## 1.5 Removing uncommon wrods and stop words\n",
        "# Before stop word removal\n",
        "word_counts = collections.Counter(process_corpus)\n",
        "print(word_counts)\n",
        "\n",
        "# Define some stop words\n",
        "stop_words = {\n",
        "    'ourselves', 'hers', 'between', 'yourself', 'but', 'again',\n",
        "    'there', 'about', 'once', 'during', 'out', 'very', 'having', 'with', 'they',\n",
        "    'own', 'an', 'be', 'some', 'for', 'do', 'its', 'yours', 'such', 'into',\n",
        "    'of', 'most', 'itself', 'other', 'off', 'is', 's', 'am', 'or', 'who', 'as',\n",
        "    'from', 'him', 'each', 'the', 'themselves', 'until', 'below', 'are', 'we',\n",
        "    'these', 'your', 'his', 'through', 'don', 'nor', 'me', 'were', 'her', 'more',\n",
        "    'himself', 'this', 'down', 'should', 'our', 'their', 'while', 'above',\n",
        "    'both', 'up', 'to', 'ours', 'had', 'she', 'all', 'no', 'when', 'at', 'any',\n",
        "    'before', 'them', 'same', 'and', 'been', 'have', 'in', 'will', 'on', 'does',\n",
        "    'yourselves', 'then', 'that', 'because', 'what', 'over', 'why', 'so', 'can',\n",
        "    'did', 'not', 'now', 'under', 'he', 'you', 'herself', 'has', 'just', 'where',\n",
        "    'too', 'only', 'myself', 'which', 'those', 'i', 'after', 'few', 'whom', 't',\n",
        "    'being', 'if', 'theirs', 'my', 'against', 'a', 'by', 'doing', 'it', 'how',\n",
        "    'further', 'was', 'here', 'than'}\n",
        "\n",
        "# find least common elements\n",
        "uncommon_words = word_counts.most_common()[:-10:-1]\n",
        "\n",
        "processed_corpos = [w for w in processed_corpus if w not in stop_words]\n",
        "processed_corpus = [w for w in processed_corpus if w not in uncommon_words]\n",
        "\n",
        "print(processed_corpus)"
      ],
      "execution_count": 20,
      "outputs": [
        {
          "output_type": "stream",
          "text": [
            "['An', 'dy', 'is', 'a d', 'at', 'a s', 'ci', 'en', 'ti', 'st', 'An', 'dy', 's b', 'os', 's, M', 'eg', 'an', 'wa', 's l', 'oo', 'ki', 'ng', 'fo', 'r h', 'im', 'bu', 't A', 'nd', 'y w', 'as', 'ou', 't t', 'o l', 'un', 'ch', 'Me', 'ga', 'n t', 'ex', 'te', 'd A', 'nd', \"y, 'H\", 'ow', 's t', 'he', 'de', 'ad', 'li', 'ne', 'co', 'mi', 'ng', 'al', 'on', 'g']\n",
            "[]\n",
            "Counter({'the': 245, 'of': 217, 'and': 105, 'in': 98, 'to': 98, 'language': 77, 'systems': 70, 'machine': 63, 'for': 63, 'data': 56, 'learning': 56, 'translation': 49, 'that': 49, 'natural': 49, 'processing': 49, 'more': 42, 'was': 42, 'which': 42, 'were': 42, 'models': 42, 'into': 35, 'research': 35, 'many': 35, 'on': 35, 'has': 35, 'results': 35, 'However': 28, 'real': 28, 'statistical': 28, 'developed': 28, 'with': 28, 'written': 28, 'algorithms': 28, 'input': 28, 'annotated': 28, 'The': 21, 'or': 21, 'be': 21, '1980s': 21, 'when': 21, 'ELIZA': 21, 'by': 21, 'are': 21, 'hand': 21, 'rules': 21, 'due': 21, 'such': 21, 'as': 21, 'is': 21, 'can': 21, 'than': 14, 'much': 14, '1966': 14, 'had': 14, 'late': 14, 'Some': 14, 'system': 14, 'restricted': 14, 'information': 14, 'human': 14, 'very': 14, 'example': 14, 'head': 14, 'hurts': 14, 'During': 14, 'world': 14, '1978': 14, 'Lehnert': 14, 'this': 14, 'time': 14, 'including': 14, 'most': 14, 'based': 14, 'there': 14, 'linguistics': 14, 'used': 14, 'produced': 14, 'if': 14, 'existing': 14, 'part': 14, 'speech': 14, 'increasingly': 14, 'focused': 14, 'make': 14, 'up': 14, 'Such': 14, 'given': 14, 'especially': 14, 'corpora': 14, 'been': 14, 'result': 14, 'all': 14, 'other': 14, 'tasks': 14, 'these': 14, 'often': 14, 'methods': 14, 'from': 14, 'supervised': 14, 'non': 14, 'amount': 14, 'Georgetown': 7, 'experiment': 7, '1954': 7, 'involved': 7, 'fully': 7, 'automatic': 7, 'sixty': 7, 'Russian': 7, 'sentences': 7, 'English': 7, 'authors': 7, 'claimed': 7, 'within': 7, 'three': 7, 'five': 7, 'years': 7, 'would': 7, 'solved': 7, 'problem': 7, 'progress': 7, 'slower': 7, 'after': 7, 'ALPAC': 7, 'report': 7, 'found': 7, 'ten': 7, 'year': 7, 'long': 7, 'failed': 7, 'fulfill': 7, 'expectations': 7, 'funding': 7, 'dramatically': 7, 'reduced': 7, 'Little': 7, 'further': 7, 'conducted': 7, 'until': 7, 'first': 7, 'notably': 7, 'successful': 7, '1960s': 7, 'SHRDLU': 7, 'working': 7, 'blocks': 7, 'worlds': 7, 'vocabularies': 7, 'simulation': 7, 'Rogerian': 7, 'psychotherapist': 7, 'Joseph': 7, 'Weizenbaum': 7, 'between': 7, '1964': 7, 'Using': 7, 'almost': 7, 'no': 7, 'about': 7, 'thought': 7, 'emotion': 7, 'sometimes': 7, 'provided': 7, 'startlingly': 7, 'like': 7, 'interaction': 7, 'When': 7, 'patient': 7, 'exceeded': 7, 'small': 7, 'knowledge': 7, 'base': 7, 'might': 7, 'provide': 7, 'generic': 7, 'response': 7, 'responding': 7, 'My': 7, 'Why': 7, 'do': 7, 'you': 7, 'say': 7, 'your': 7, '1970s': 7, 'programmers': 7, 'began': 7, 'write': 7, 'conceptual': 7, 'ontologies': 7, 'structured': 7, 'computer': 7, 'understandable': 7, 'Examples': 7, 'MARGIE': 7, 'Schank': 7, '1975': 7, 'SAM': 7, 'Cullingford': 7, 'PAM': 7, 'Wilensky': 7, 'TaleSpin': 7, 'Meehan': 7, '1976': 7, 'QUALM': 7, '1977': 7, 'Politics': 7, 'Carbonell': 7, '1979': 7, 'Plot': 7, 'Units': 7, '1981': 7, 'chatterbots': 7, 'PARRY': 7, 'Racter': 7, 'Jabberwacky': 7, 'Up': 7, 'complex': 7, 'sets': 7, 'Starting': 7, 'however': 7, 'revolution': 7, 'introduction': 7, 'This': 7, 'both': 7, 'steady': 7, 'increase': 7, 'computational': 7, 'power': 7, 'see': 7, \"Moore's\": 7, 'law': 7, 'gradual': 7, 'lessening': 7, 'dominance': 7, 'Chomskyan': 7, 'theories': 7, 'transformational': 7, 'grammar': 7, 'whose': 7, 'theoretical': 7, 'underpinnings': 7, 'discouraged': 7, 'sort': 7, 'corpus': 7, 'underlies': 7, 'approach': 7, 'earliest': 7, 'decision': 7, 'trees': 7, 'hard': 7, 'then': 7, 'similar': 7, 'tagging': 7, 'introduced': 7, 'use': 7, 'hidden': 7, 'Markov': 7, 'soft': 7, 'probabilistic': 7, 'decisions': 7, 'attaching': 7, 'valued': 7, 'weights': 7, 'features': 7, 'making': 7, 'cache': 7, 'upon': 7, 'recognition': 7, 'now': 7, 'rely': 7, 'examples': 7, 'generally': 7, 'robust': 7, 'unfamiliar': 7, 'contains': 7, 'errors': 7, 'common': 7, 'produce': 7, 'reliable': 7, 'integrated': 7, 'larger': 7, 'comprising': 7, 'multiple': 7, 'subtasks': 7, 'Many': 7, 'notable': 7, 'early': 7, 'successes': 7, 'occurred': 7, 'field': 7, 'work': 7, 'at': 7, 'IBM': 7, 'Research': 7, 'where': 7, 'successively': 7, 'complicated': 7, 'These': 7, 'able': 7, 'take': 7, 'advantage': 7, 'multilingual': 7, 'textual': 7, 'Parliament': 7, 'Canada': 7, 'European': 7, 'Union': 7, 'laws': 7, 'calling': 7, 'governmental': 7, 'proceedings': 7, 'official': 7, 'languages': 7, 'corresponding': 7, 'government': 7, 'depended': 7, 'specifically': 7, 'implemented': 7, 'continues': 7, 'major': 7, 'limitation': 7, 'success': 7, 'As': 7, 'great': 7, 'deal': 7, 'gone': 7, 'effectively': 7, 'limited': 7, 'amounts': 7, 'Recent': 7, 'unsupervised': 7, 'semi': 7, 'learn': 7, 'not': 7, 'desired': 7, 'answers': 7, 'using': 7, 'combination': 7, 'Generally': 7, 'task': 7, 'difficult': 7, 'typically': 7, 'produces': 7, 'less': 7, 'accurate': 7, 'an': 7, 'enormous': 7, 'available': 7, 'among': 7, 'things': 7, 'entire': 7, 'content': 7, 'World': 7, 'Wide': 7, 'Web': 7, 'inferior': 7, 'algorithm': 7, 'low': 7, 'enough': 7, 'complexity': 7, 'practical': 7, 'In': 7, '2010s': 7, 'representation': 7, 'deep': 7, 'neural': 7, 'network': 7, 'style': 7, 'became': 7, 'widespread': 7, 'flurry': 7, 'showing': 7, 'techniques': 7, 'achieve': 7, 'state': 7, 'art': 7, 'modeling': 7, 'parsing': 7, 'others': 7})\n",
            "[]\n"
          ],
          "name": "stdout"
        }
      ]
    },
    {
      "cell_type": "markdown",
      "metadata": {
        "id": "5efXoXi2KIr8",
        "colab_type": "text"
      },
      "source": [
        "# New Section"
      ]
    },
    {
      "cell_type": "code",
      "metadata": {
        "id": "fncP2gsybe7O",
        "colab_type": "code",
        "colab": {}
      },
      "source": [
        ""
      ],
      "execution_count": 0,
      "outputs": []
    },
    {
      "cell_type": "markdown",
      "metadata": {
        "id": "pR84eLPXJV81",
        "colab_type": "text"
      },
      "source": [
        "# New Section"
      ]
    },
    {
      "cell_type": "markdown",
      "metadata": {
        "id": "g7jQc2KlGpBZ",
        "colab_type": "text"
      },
      "source": [
        "# New Section"
      ]
    }
  ]
}
